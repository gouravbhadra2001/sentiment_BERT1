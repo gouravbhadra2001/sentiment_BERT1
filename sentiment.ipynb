{
 "cells": [
  {
   "cell_type": "code",
   "execution_count": 1,
   "id": "ebc80cdf-06b5-484f-9faf-5d6ed1159db5",
   "metadata": {},
   "outputs": [],
   "source": [
    "import torch\n",
    "import tqdm"
   ]
  },
  {
   "cell_type": "code",
   "execution_count": 2,
   "id": "0eb40939-c261-473f-b385-88ea72b0663b",
   "metadata": {},
   "outputs": [
    {
     "name": "stdout",
     "output_type": "stream",
     "text": [
      "Using cuda device\n",
      "Number of devices torch cuda uses:  1\n",
      "Name of the current device used:  NVIDIA GeForce GTX 1650\n",
      "Properties of the current device: \n",
      " _CudaDeviceProperties(name='NVIDIA GeForce GTX 1650', major=7, minor=5, total_memory=4095MB, multi_processor_count=14)\n"
     ]
    }
   ],
   "source": [
    "device = (\n",
    "    \"cuda\"\n",
    "    if torch.cuda.is_available()\n",
    "    else \"mps\"\n",
    "    if torch.backends.mps.is_available()\n",
    "    else \"cpu\"\n",
    ")\n",
    "print(f\"Using {device} device\")\n",
    "\n",
    "if (torch.cuda.is_available()):\n",
    "    print(\"Number of devices torch cuda uses: \", torch.cuda.device_count())\n",
    "    curr_div_ind = torch.cuda.current_device()\n",
    "    print(\"Name of the current device used: \", torch.cuda.get_device_name(curr_div_ind))\n",
    "    print(\"Properties of the current device: \\n\", torch.cuda.get_device_properties(curr_div_ind))\n",
    "    "
   ]
  },
  {
   "cell_type": "code",
   "execution_count": 3,
   "id": "a7c8d5cd-a010-4db5-962f-41fef588c830",
   "metadata": {},
   "outputs": [
    {
     "name": "stderr",
     "output_type": "stream",
     "text": [
      "C:\\Users\\hp\\.conda\\envs\\py310\\lib\\site-packages\\tqdm\\auto.py:21: TqdmWarning: IProgress not found. Please update jupyter and ipywidgets. See https://ipywidgets.readthedocs.io/en/stable/user_install.html\n",
      "  from .autonotebook import tqdm as notebook_tqdm\n"
     ]
    }
   ],
   "source": [
    "import torch.nn as nn\n",
    "from torch.utils.data import DataLoader\n",
    "from transformers import BertTokenizer, BertModel\n",
    "from torch.optim import AdamW\n",
    "from sklearn.metrics import accuracy_score, precision_score, recall_score"
   ]
  },
  {
   "cell_type": "code",
   "execution_count": 4,
   "id": "65d4314e-c70e-48d6-bfaa-a79f12ec3c50",
   "metadata": {},
   "outputs": [],
   "source": [
    "pt_model = \"bert-base-uncased\""
   ]
  },
  {
   "cell_type": "code",
   "execution_count": 5,
   "id": "aa76abba-5a69-42b1-b747-adb3d9bff7a0",
   "metadata": {},
   "outputs": [
    {
     "data": {
      "text/plain": [
       "device(type='cuda', index=0)"
      ]
     },
     "execution_count": 5,
     "metadata": {},
     "output_type": "execute_result"
    }
   ],
   "source": [
    "tokenizer = BertTokenizer.from_pretrained(pt_model)\n",
    "bert_model = BertModel.from_pretrained(pt_model)\n",
    "bert_model.to(device)\n",
    "bert_model.device"
   ]
  },
  {
   "cell_type": "code",
   "execution_count": 6,
   "id": "1f54a870-a0cc-495f-ad59-8a2131575c3d",
   "metadata": {},
   "outputs": [],
   "source": [
    "\n",
    "class Custom_ANN(nn.Module):\n",
    "    \n",
    "    def __init__(self, input_size, hidden_sizes, output_size):\n",
    "        super(Custom_ANN, self).__init__()\n",
    "        self.input_layer = nn.Linear(input_size, hidden_sizes[0])\n",
    "        self.hidden_layers = nn.ModuleList([nn.Linear(hidden_sizes[i], hidden_sizes[i+1]) for i in range(len(hidden_sizes)-1)])\n",
    "        self.output_layer = nn.Linear(hidden_sizes[-1], output_size)\n",
    "        self.relu = nn.ReLU()\n",
    "        \n",
    "    def forward(self, x):\n",
    "        x = self.relu(self.input_layer(x))\n",
    "        for layer in self.hidden_layers:\n",
    "            x = self.relu(layer(x))\n",
    "        x = self.output_layer(x)\n",
    "        return x\n",
    "\n"
   ]
  },
  {
   "cell_type": "code",
   "execution_count": 7,
   "id": "8e41613e-dcbc-427e-b21e-b69f9a758c8b",
   "metadata": {},
   "outputs": [],
   "source": [
    "input_size = bert_model.config.hidden_size  # Adjusted input size\n",
    "hidden_sizes = [256, 128]\n",
    "output_size = 2\n",
    "ann_layers = Custom_ANN(input_size, hidden_sizes, output_size).to(device)"
   ]
  },
  {
   "cell_type": "code",
   "execution_count": 8,
   "id": "5fc95573-d667-4c74-8b80-36929573cb78",
   "metadata": {},
   "outputs": [],
   "source": [
    "class CustomModel(nn.Module):\n",
    "    def __init__(self, bert_model, ann_layers):\n",
    "        super(CustomModel, self).__init__()\n",
    "        self.bert_model = bert_model\n",
    "        self.ann_layers = ann_layers\n",
    "        \n",
    "    def forward(self, input_ids, attention_mask):\n",
    "        bert_output = self.bert_model(input_ids=input_ids, attention_mask=attention_mask)\n",
    "        pooled_output = bert_output.pooler_output\n",
    "        output = self.ann_layers(pooled_output)\n",
    "        return output"
   ]
  },
  {
   "cell_type": "code",
   "execution_count": 9,
   "id": "a057576f-9264-4dcf-8658-df3a36c436e0",
   "metadata": {},
   "outputs": [],
   "source": [
    "model = CustomModel(bert_model, ann_layers).to(device)\n"
   ]
  },
  {
   "cell_type": "code",
   "execution_count": 10,
   "id": "94aca5fd-debe-409a-9f4d-2c97c226616d",
   "metadata": {},
   "outputs": [],
   "source": [
    "dataset_texts = [\n",
    "    \n",
    "     \"She sits by the window, watching the raindrops cascade down the glass in a mesmerizing dance. In the quiet of the evening, his words echo in her mind, a gentle reminder of the feelings he confessed not long ago. Despite the warmth of the room, a chill settles in her heart as she grapples with the weight of his admission. She knows she should respond, but the words elude her, buried beneath layers of uncertainty and doubt. And so, she remains silent, hoping he'll understand the unspoken rejection veiled behind her hesitant smile.\",\n",
    "    \n",
    "     \"Underneath the starlit sky, surrounded by the soft rustle of leaves in the gentle breeze, she feels a flutter of anticipation in her chest. His words hang in the air, laden with sincerity and vulnerability, and she finds herself captivated by the earnestness in his gaze. She knows this moment will be etched into the fabric of her memories forever. With a soft sigh, she reaches out, intertwining her fingers with his, a silent affirmation of the love that blossoms between them. In that fleeting touch, she finds the courage to let go of her fears and doubts, embracing the warmth of his affection with open arms. And as she leans in to meet his gaze, she whispers the words she's longed to say, 'Yes, I feel it too.'\",\n",
    "    \n",
    "     \"The cafe is alive with the hum of conversation and the aroma of freshly brewed coffee. Across the table, he sits, eyes filled with hope and longing, waiting for her response. She fidgets with her cup, avoiding his gaze as she searches for the right words. It's not that she doesn't care for him, she does, deeply. But love is a complicated thing, tangled in the threads of past experiences and future uncertainties. And so, with a heavy heart, she musters the courage to gently decline his offer, knowing that in doing so, she preserves their friendship and spares them both from potential heartache.\",\n",
    "    \n",
    "     \"In the golden glow of the setting sun, they walk hand in hand along the sandy shore, the sound of waves crashing against the rocks a soothing backdrop to their conversation. With each step, she feels the weight of his gaze upon her, filled with a tenderness that makes her heart swell with emotion. And as they pause to watch the sunset, painting the sky in hues of pink and orange, she knows that this moment is perfect, just as they are together. Turning to him, she smiles, her eyes shining with love and adoration, as she whispers the words he's been longing to hear, 'Yes, I'll be yours.'\",\n",
    "    \n",
    "     \"Amidst the hustle and bustle of the city, they find themselves alone in a quiet corner of the park. He takes her hand in his, his touch gentle yet filled with longing. She feels a knot form in her stomach as she realizes what he's about to say. She wants to reciprocate his feelings, she truly does, but something holds her back, a nagging doubt that refuses to be ignored. And so, with a heavy heart, she gently rejects his advances, knowing that in doing so, she's protecting both of their hearts from potential pain.\",\n",
    "    \n",
    "     \"Beneath the twinkling stars, they sit on the grassy hillside, the city lights shimmering in the distance. His words hang in the air, hesitant yet filled with sincerity, and she finds herself unable to look away from the vulnerability in his eyes. She knows that this moment will change everything, and she welcomes it with open arms. With a soft smile, she reaches out to touch his cheek, her heart overflowing with love as she whispers the words he's been longing to hear, 'Yes, I'll be yours forever.'\",\n",
    "    \n",
    "     \"In the quiet of the library, surrounded by shelves of books, he finally gathers the courage to confess his feelings. She listens intently, her heart heavy with the weight of his words. She wants to return his affections, she truly does, but there's a part of her that hesitates, a voice whispering doubts in the back of her mind. And so, with a sigh, she gently declines his offer, knowing that it's better to be honest now than to lead him on.\",\n",
    "    \n",
    "     \"As they dance beneath the soft glow of fairy lights, she feels a sense of contentment wash over her. His arms around her waist, pulling her close, make her feel safe and cherished. She knows that this is where she belongs, in his embrace, for now and always. And as the music fades into the night, she leans in to whisper the words he's been waiting to hear, 'Yes, I'll be your partner in this dance called life.'\",\n",
    "    \n",
    "     \"In the quiet of the night, he pours his heart out to her, laying bare his deepest emotions. She listens, her heart aching with the weight of his words. She wants to reciprocate his feelings, she truly does, but there's a voice inside her that holds her back, a fear of the unknown. And so, with a heavy heart, she gently turns him down, knowing that it's better to be honest now than to give him false hope.\",\n",
    "    \n",
    "     \"Beneath the canopy of stars, they sit on the hood of his car, sharing stories and dreams beneath the night sky. His hand finds hers, fingers intertwining in a silent promise of forever. She feels a warmth spread through her chest, a sense of belonging she's never known before. And as they gaze at the constellations above, she knows that this is where she's meant to be, with him by her side. With a smile, she leans in to press a kiss to his cheek, silently affirming the love that blooms between them.\",\n",
    "    \n",
    "     \"In the quiet of the park, surrounded by the gentle rustle of leaves, he finally gathers the courage to tell her how he feels. She listens, her heart heavy with the weight of his words. She wants to reciprocate his feelings, she truly does, but there's a part of her that holds back, a fear of what the future might hold. And so, with a sigh, she gently declines his offer, knowing that it's better to be honest now than to lead him on.\",\n",
    "    \n",
    "     \"She gazes out of the window, lost in thought as the rain taps against the glass in a rhythmic melody. His words linger in the air, heavy with expectation and vulnerability. She wants to reciprocate his feelings, to embrace the love he offers, but there's a hesitation that lingers in the depths of her heart. And so, with a soft smile and a gentle touch, she deflects his advances, hoping he'll understand the unspoken rejection hidden beneath her words.\",\n",
    "    \n",
    "     \"Beneath the starry sky, they find themselves enveloped in a blanket of silence, broken only by the soft whispers of the wind. His hand finds hers, fingers intertwining in a silent promise of forever. She feels a warmth spread through her chest, a sense of peace and belonging washing over her. And as they gaze at the constellations above, she knows that this is where she's meant to be, with him by her side. With a smile, she leans in to press a kiss to his lips, sealing their love beneath the watchful eye of the moon.\",\n",
    "    \n",
    "     \"In the quiet of the park, she listens to his confession with a heavy heart. His words hang in the air, filled with hope and longing, but she can't find it in herself to return his affections. There's a part of her that wants to, that yearns to make him happy, but she knows deep down that it wouldn't be fair to either of them. And so, with a gentle touch and a sad smile, she lets him down softly, hoping he'll understand the depth of her feelings.\",\n",
    "    \n",
    "     \"Amidst the hustle and bustle of the city, they find themselves alone on a rooftop, the city lights twinkling below. His eyes meet hers, filled with an intensity that takes her breath away. She knows in that moment that he's the one she wants to spend her life with. And as he reaches for her hand, she doesn't hesitate to say yes, her heart overflowing with love and excitement for the future they'll build together.\",\n",
    "    \n",
    "     \"As they stroll through the park, he gathers his courage and finally lays his feelings bare. She listens intently, her heart heavy with the weight of his words. She wants to reciprocate his affection, to make him happy, but there's a hesitation that holds her back. And so, with a soft smile and a gentle shake of her head, she gently declines his offer, knowing that it's for the best.\",\n",
    "    \n",
    "     \"In the quiet of the night, they sit by the fireplace, the crackling flames casting a warm glow over the room. His eyes search hers, filled with a love that makes her heart flutter. She knows in that moment that she's found her soulmate, the one she wants to share her life with. And as he reaches for her hand, she doesn't hesitate to say yes, her heart overflowing with joy and gratitude for the love they share.\",\n",
    "    \n",
    "     \"She listens to his declaration of love with a heavy heart, knowing that she can't return his feelings in the same way. There's a sadness in her eyes as she gently lets him down, her words carefully chosen to spare his feelings. She wishes things could be different, that she could love him the way he deserves, but she knows that it's not meant to be.\",\n",
    "    \n",
    "     \"Underneath the twinkling stars, they find themselves lost in each other's eyes, the world melting away around them. His words are like poetry, filling her with a sense of wonder and awe. She knows in that moment that she's found her other half, the one she's been searching for. And as he drops to one knee and presents her with a ring, she doesn't hesitate to say yes, tears of joy streaming down her face.\",\n",
    "    \n",
    "     \"In the dimly lit cafe, he pours his heart out to her, baring his soul in a way he's never done before. She listens intently, her heart aching with the weight of his words. She wishes she could love him the way he wants her to, but there's a part of her that knows it's not meant to be. And so, with a heavy heart and tears in her eyes, she gently turns him down, knowing that it's for the best.\",\n",
    "    \n",
    "     \"As they stand on the beach, waves crashing against the shore, he takes her hand in his and looks into her eyes with a love that takes her breath away. She feels a warmth spread through her chest, a sense of peace and contentment washing over her. And as he drops to one knee and asks her to be his forever, she doesn't hesitate to say yes, her heart overflowing with love and happiness.\"\n",
    "\n",
    "\n",
    "]\n",
    "\n",
    "dataset_labels = [0, 1, 0, 1, 0, 1, 0, 1, 0, 1, 0, 0, 1, 0, 1, 0, 1, 0, 1, 0, 1]\n"
   ]
  },
  {
   "cell_type": "code",
   "execution_count": 11,
   "id": "9add1331-59d1-420b-b673-09971f083f5c",
   "metadata": {},
   "outputs": [],
   "source": [
    "train_texts = dataset_texts\n",
    "train_labels = torch.tensor(dataset_labels)\n",
    "   \n",
    "train_encodings = tokenizer(train_texts, truncation=True, padding=True, return_tensors='pt')\n",
    "train_dataset = torch.utils.data.TensorDataset(train_encodings['input_ids'], train_encodings['attention_mask'], train_labels)\n",
    "train_loader = DataLoader(train_dataset, batch_size=32, shuffle=True)\n",
    "\n"
   ]
  },
  {
   "cell_type": "code",
   "execution_count": 12,
   "id": "b5acec29-50b7-4970-9546-1026ec44cf7a",
   "metadata": {},
   "outputs": [],
   "source": [
    "optimizer = AdamW(model.parameters(), lr=2e-5)\n",
    "criterion = nn.CrossEntropyLoss()"
   ]
  },
  {
   "cell_type": "code",
   "execution_count": 18,
   "id": "0c56b659-d961-48ba-8c63-7209cd8ec7b8",
   "metadata": {},
   "outputs": [
    {
     "name": "stdout",
     "output_type": "stream",
     "text": [
      "]poch 1/50 [====================\n",
      "Epoch 1, Loss: 0.045107465237379074, Precision: 1.0, Recall: 1.0\n",
      "]poch 2/50 [====================\n",
      "Epoch 2, Loss: 0.04435582831501961, Precision: 1.0, Recall: 1.0\n",
      "]poch 3/50 [====================\n",
      "Epoch 3, Loss: 0.043670903891325, Precision: 1.0, Recall: 1.0\n",
      "]poch 4/50 [====================\n",
      "Epoch 4, Loss: 0.042815856635570526, Precision: 1.0, Recall: 1.0\n",
      "]poch 5/50 [====================\n",
      "Epoch 5, Loss: 0.04215378314256668, Precision: 1.0, Recall: 1.0\n",
      "]poch 6/50 [====================\n",
      "Epoch 6, Loss: 0.041503045707941055, Precision: 1.0, Recall: 1.0\n",
      "]poch 7/50 [====================\n",
      "Epoch 7, Loss: 0.04079173132777214, Precision: 1.0, Recall: 1.0\n",
      "]poch 8/50 [====================\n",
      "Epoch 8, Loss: 0.040221042931079865, Precision: 1.0, Recall: 1.0\n",
      "]poch 9/50 [====================\n",
      "Epoch 9, Loss: 0.039485715329647064, Precision: 1.0, Recall: 1.0\n",
      "]poch 10/50 [====================\n",
      "Epoch 10, Loss: 0.03887737914919853, Precision: 1.0, Recall: 1.0\n",
      "]poch 11/50 [====================\n",
      "Epoch 11, Loss: 0.038240086287260056, Precision: 1.0, Recall: 1.0\n",
      "]poch 12/50 [====================\n",
      "Epoch 12, Loss: 0.037619493901729584, Precision: 1.0, Recall: 1.0\n",
      "]poch 13/50 [====================\n",
      "Epoch 13, Loss: 0.03703347593545914, Precision: 1.0, Recall: 1.0\n",
      "]poch 14/50 [====================\n",
      "Epoch 14, Loss: 0.03657400608062744, Precision: 1.0, Recall: 1.0\n",
      "]poch 15/50 [====================\n",
      "Epoch 15, Loss: 0.03594056889414787, Precision: 1.0, Recall: 1.0\n",
      "]poch 16/50 [====================\n",
      "Epoch 16, Loss: 0.03542182967066765, Precision: 1.0, Recall: 1.0\n",
      "]poch 17/50 [====================\n",
      "Epoch 17, Loss: 0.03486048802733421, Precision: 1.0, Recall: 1.0\n",
      "]poch 18/50 [====================\n",
      "Epoch 18, Loss: 0.03429318219423294, Precision: 1.0, Recall: 1.0\n",
      "]poch 19/50 [====================\n",
      "Epoch 19, Loss: 0.0337422676384449, Precision: 1.0, Recall: 1.0\n",
      "]poch 20/50 [====================\n",
      "Epoch 20, Loss: 0.03325759992003441, Precision: 1.0, Recall: 1.0\n",
      "]poch 21/50 [====================\n",
      "Epoch 21, Loss: 0.03283161669969559, Precision: 1.0, Recall: 1.0\n",
      "]poch 22/50 [====================\n",
      "Epoch 22, Loss: 0.03242603689432144, Precision: 1.0, Recall: 1.0\n",
      "]poch 23/50 [====================\n",
      "Epoch 23, Loss: 0.03178051486611366, Precision: 1.0, Recall: 1.0\n",
      "]poch 24/50 [====================\n",
      "Epoch 24, Loss: 0.0313597172498703, Precision: 1.0, Recall: 1.0\n",
      "]poch 25/50 [====================\n",
      "Epoch 25, Loss: 0.0308937206864357, Precision: 1.0, Recall: 1.0\n",
      "]poch 26/50 [====================\n",
      "Epoch 26, Loss: 0.0304584838449955, Precision: 1.0, Recall: 1.0\n",
      "]poch 27/50 [====================\n",
      "Epoch 27, Loss: 0.029987379908561707, Precision: 1.0, Recall: 1.0\n",
      "]poch 28/50 [====================\n",
      "Epoch 28, Loss: 0.0296553373336792, Precision: 1.0, Recall: 1.0\n",
      "]poch 29/50 [====================\n",
      "Epoch 29, Loss: 0.029147939756512642, Precision: 1.0, Recall: 1.0\n",
      "]poch 30/50 [====================\n",
      "Epoch 30, Loss: 0.028785234317183495, Precision: 1.0, Recall: 1.0\n",
      "]poch 31/50 [====================\n",
      "Epoch 31, Loss: 0.028384646400809288, Precision: 1.0, Recall: 1.0\n",
      "]poch 32/50 [====================\n",
      "Epoch 32, Loss: 0.027965176850557327, Precision: 1.0, Recall: 1.0\n",
      "]poch 33/50 [====================\n",
      "Epoch 33, Loss: 0.027624862268567085, Precision: 1.0, Recall: 1.0\n",
      "]poch 34/50 [====================\n",
      "Epoch 34, Loss: 0.027227655053138733, Precision: 1.0, Recall: 1.0\n",
      "]poch 35/50 [====================\n",
      "Epoch 35, Loss: 0.02681739255785942, Precision: 1.0, Recall: 1.0\n",
      "]poch 36/50 [====================\n",
      "Epoch 36, Loss: 0.026403024792671204, Precision: 1.0, Recall: 1.0\n",
      "]poch 37/50 [====================\n",
      "Epoch 37, Loss: 0.026091380044817924, Precision: 1.0, Recall: 1.0\n",
      "]poch 38/50 [====================\n",
      "Epoch 38, Loss: 0.02577466331422329, Precision: 1.0, Recall: 1.0\n",
      "]poch 39/50 [====================\n",
      "Epoch 39, Loss: 0.02537943422794342, Precision: 1.0, Recall: 1.0\n",
      "]poch 40/50 [====================\n",
      "Epoch 40, Loss: 0.025125356391072273, Precision: 1.0, Recall: 1.0\n",
      "]poch 41/50 [====================\n",
      "Epoch 41, Loss: 0.024788884446024895, Precision: 1.0, Recall: 1.0\n",
      "]poch 42/50 [====================\n",
      "Epoch 42, Loss: 0.024516798555850983, Precision: 1.0, Recall: 1.0\n",
      "]poch 43/50 [====================\n",
      "Epoch 43, Loss: 0.02409815788269043, Precision: 1.0, Recall: 1.0\n",
      "]poch 44/50 [====================\n",
      "Epoch 44, Loss: 0.02379244565963745, Precision: 1.0, Recall: 1.0\n",
      "]poch 45/50 [====================\n",
      "Epoch 45, Loss: 0.02348242700099945, Precision: 1.0, Recall: 1.0\n",
      "]poch 46/50 [====================\n",
      "Epoch 46, Loss: 0.023159077391028404, Precision: 1.0, Recall: 1.0\n",
      "]poch 47/50 [====================\n",
      "Epoch 47, Loss: 0.022884657606482506, Precision: 1.0, Recall: 1.0\n",
      "]poch 48/50 [====================\n",
      "Epoch 48, Loss: 0.02262251079082489, Precision: 1.0, Recall: 1.0\n",
      "]poch 49/50 [====================\n",
      "Epoch 49, Loss: 0.022294383496046066, Precision: 1.0, Recall: 1.0\n",
      "]poch 50/50 [====================\n",
      "Epoch 50, Loss: 0.022068940103054047, Precision: 1.0, Recall: 1.0\n"
     ]
    }
   ],
   "source": [
    "import time\n",
    "\n",
    "# Set the model to training mode\n",
    "model.train()\n",
    "\n",
    "# Iterate over epochs\n",
    "for epoch in range(50):\n",
    "    total_loss = 0\n",
    "    true_positives, false_positives, false_negatives = 0, 0, 0\n",
    "\n",
    "    # Initialize progress bar\n",
    "    print(f'Epoch {epoch + 1}/{50} [', end='', flush=True)\n",
    "\n",
    "    # Iterate over the batches in the training data loader\n",
    "    for batch_idx, (input_ids, attention_mask, labels) in enumerate(train_loader):\n",
    "        optimizer.zero_grad()\n",
    "        input_ids, attention_mask, labels = input_ids.to(device), attention_mask.to(device), labels.to(device)\n",
    "        outputs = model(input_ids=input_ids, attention_mask=attention_mask)\n",
    "        loss = criterion(outputs, labels)\n",
    "        loss.backward()\n",
    "        optimizer.step()\n",
    "        total_loss += loss.item()\n",
    "\n",
    "        # Compute true positives, false positives, and false negatives\n",
    "        predictions = outputs.argmax(dim=1)\n",
    "        true_positives += ((predictions == 1) & (labels == 1)).sum().item()\n",
    "        false_positives += ((predictions == 1) & (labels == 0)).sum().item()\n",
    "        false_negatives += ((predictions == 0) & (labels == 1)).sum().item()\n",
    "\n",
    "        # Update progress bar\n",
    "        progress = int((batch_idx + 1) / len(train_loader) * 20)  # 20 is the width of the progress bar\n",
    "        print('=' * progress, end='', flush=True)\n",
    "        print('\\r', end='')  # Move the cursor back to the beginning of the line\n",
    "        time.sleep(0.1)  # Wait for 0.1 seconds between each update\n",
    "\n",
    "    # Close progress bar\n",
    "    print(']', end='', flush=True)\n",
    "    print()  # Move to the next line for the next epoch\n",
    "\n",
    "    # Calculate precision, recall\n",
    "    precision = true_positives / (true_positives + false_positives) if (true_positives + false_positives) > 0 else 0\n",
    "    recall = true_positives / (true_positives + false_negatives) if (true_positives + false_negatives) > 0 else 0\n",
    "\n",
    "    print(f'Epoch {epoch + 1}, Loss: {total_loss}, Precision: {precision}, Recall: {recall}')\n"
   ]
  },
  {
   "cell_type": "code",
   "execution_count": null,
   "id": "4ee9fe2c-9da7-43ed-9687-515118b42e49",
   "metadata": {},
   "outputs": [],
   "source": [
    "\n"
   ]
  },
  {
   "cell_type": "code",
   "execution_count": 44,
   "id": "48884635-c28f-403e-8938-a19cb84dbfad",
   "metadata": {},
   "outputs": [],
   "source": [
    "test_dataset = [\n",
    "    # Tanishka and Gourav\n",
    "    \"Tanishka sits across from Gourav in the cozy corner of the cafe, his words hanging in the air like delicate tendrils of smoke. She wants to reciprocate his feelings, but there's a barrier between them, a wall built of unspoken fears and uncertainties. And so, with a gentle smile and a shake of her head, she softly declines his proposal, hoping he'll understand the depth of her hesitation.\",\n",
    "    \"Gourav gazes into Tanishka's eyes, his heart pounding with anticipation as he waits for her response. When she finally nods, a radiant smile lighting up her face, he feels a surge of joy wash over him. He takes her hand in his, feeling grateful for this moment of happiness that they'll share together.\",\n",
    "    \n",
    "    # Shukla and Raj\n",
    "    \"Shukla listens to Raj's heartfelt confession with a heavy heart, knowing that she can't return his feelings in the same way. There's a sadness in her eyes as she gently lets him down, her words carefully chosen to spare his feelings. She wishes things could be different, that she could love him the way he deserves, but she knows that it's not meant to be.\",\n",
    "    \"Raj's heart races as he looks into Shukla's eyes, his hopes hanging on her every word. When she finally smiles and nods, he feels like he's on top of the world. He reaches for her hand, feeling grateful for this chance to build something beautiful together.\",\n",
    "    \n",
    "    # Shreya and Anirban\n",
    "    \"Shreya feels a pang of guilt as Anirban pours his heart out to her, his words filled with vulnerability and longing. She knows she should reciprocate his feelings, but there's a part of her that holds back, a voice whispering doubts in the back of her mind. And so, with a heavy heart, she gently declines his offer, knowing that it's better to be honest now than to give him false hope.\",\n",
    "    \"Anirban's heart skips a beat as Shreya's eyes meet his, filled with a warmth and affection that takes his breath away. When she finally nods, a smile spreading across her face, he feels like the luckiest person in the world. He takes her hand in his, feeling grateful for this chance to embark on a journey of love together.\",\n",
    "    \n",
    "    # Ankuri and Rajdeep\n",
    "    \"Ankuri listens to Rajdeep's declaration of love with a heavy heart, knowing that she can't return his feelings in the same way. There's a sadness in her eyes as she gently lets him down, her words carefully chosen to spare his feelings. She wishes things could be different, that she could love him the way he deserves, but she knows that it's not meant to be.\",\n",
    "    \"Rajdeep's heart swells with joy as Ankuri smiles and nods, her eyes shining with warmth and affection. He takes her hand in his, feeling grateful for this chance to build a future together filled with love and happiness.\",\n",
    "    \n",
    "    # Purki and Souvik\n",
    "    \"Purki feels a knot form in her stomach as Souvik confesses his feelings, his words hanging in the air like a heavy cloud. She wants to reciprocate his affection, to make him happy, but there's a hesitation that holds her back. And so, with a sad smile and a gentle shake of her head, she gently turns him down, knowing that it's for the best.\",\n",
    "    \"Souvik's heart races as Purki's eyes meet his, filled with a warmth and tenderness that takes his breath away. When she finally nods, a smile lighting up her face, he feels like he's on top of the world. He takes her hand in his, feeling grateful for this chance to build a future together filled with love and happiness.\",\n",
    "    \n",
    "    # Urbi and Chayan\n",
    "    \"Urbi listens to Chayan's confession with a heavy heart, knowing that she can't return his feelings in the same way. There's a sadness in her eyes as she gently lets him down, her words carefully chosen to spare his feelings. She wishes things could be different, that she could love him the way he deserves, but she knows that it's not meant to be.\",\n",
    "    \"Chayan's heart swells with joy as Urbi smiles and nods, her eyes shining with warmth and affection. He takes her hand in his, feeling grateful for this chance to build a future together filled with love and happiness.\"\n",
    "\n",
    "    ,\n",
    "    \"In the soft glow of the evening sun, her gaze wandered, drifting over the words he had spoken with such vulnerability. There was a weight in her heart as she considered the depth of his feelings, like petals heavy with dew in the early morning light. With a gentle sigh, she began to speak, her voice a melody of hesitation and uncertainty, each word chosen with care. 'I appreciate your honesty,' she started, her eyes cast downward, 'and I value our friendship more than words can express.' A faint smile graced her lips, but it was tinged with sadness, as if she carried the weight of unspoken truths. 'But perhaps,' she continued, her voice barely above a whisper, 'we could explore this connection further, see where it leads us.' Though her words seemed to linger in the air like fragile whispers, there was a flicker of hope in her eyes, a glimmer of possibility hidden within the depths of her soul.\"\n",
    "]\n",
    "\n",
    "test_label = [0,1,0,1,0,1,0,1,0,1,0,1,1]\n",
    "\n"
   ]
  },
  {
   "cell_type": "code",
   "execution_count": 45,
   "id": "6a00ca12-0a2c-454c-b312-ca8e0dc1f382",
   "metadata": {},
   "outputs": [
    {
     "name": "stdout",
     "output_type": "stream",
     "text": [
      "tensor([0, 1, 0, 1, 0, 1, 0, 1, 0, 1, 0, 1, 1])\n"
     ]
    }
   ],
   "source": [
    "test_texts = test_dataset\n",
    "test_labels = torch.tensor(test_label)\n",
    "print(test_labels)"
   ]
  },
  {
   "cell_type": "code",
   "execution_count": 46,
   "id": "7b891350-d762-403c-b388-829e1007b3df",
   "metadata": {},
   "outputs": [],
   "source": [
    "test_encodings = tokenizer(test_texts, truncation=True, padding=True, return_tensors='pt')\n"
   ]
  },
  {
   "cell_type": "code",
   "execution_count": 47,
   "id": "1e9030d6-291b-40b5-8833-6ee0ff74ffd6",
   "metadata": {},
   "outputs": [],
   "source": [
    "test_dataset = torch.utils.data.TensorDataset(test_encodings['input_ids'], test_encodings['attention_mask'], test_labels)\n",
    "test_loader = DataLoader(test_dataset, batch_size=32, shuffle=False)"
   ]
  },
  {
   "cell_type": "code",
   "execution_count": 48,
   "id": "c5a7a1e3-b963-4ced-b804-8749cf402f40",
   "metadata": {},
   "outputs": [
    {
     "name": "stdout",
     "output_type": "stream",
     "text": [
      "Accuracy: 1.0\n",
      "True Labels: [0, 1, 0, 1, 0, 1, 0, 1, 0, 1, 0, 1, 1]\n",
      "Predicted Labels: [0, 1, 0, 1, 0, 1, 0, 1, 0, 1, 0, 1, 1]\n"
     ]
    }
   ],
   "source": [
    "# Set the model to evaluation mode\n",
    "model.eval()\n",
    "\n",
    "all_preds = []\n",
    "true_labels = []\n",
    "\n",
    "# Iterate over the test data\n",
    "with torch.no_grad():\n",
    "    for input_ids, attention_mask, labels in test_loader:\n",
    "        # Move data to GPU if available\n",
    "        input_ids, attention_mask, labels = input_ids.to(device), attention_mask.to(device), labels.to(device)\n",
    "        \n",
    "        # Perform forward pass\n",
    "        outputs = model(input_ids=input_ids, attention_mask=attention_mask)\n",
    "        \n",
    "        # Compute predictions\n",
    "        _, predicted = torch.max(outputs, 1)\n",
    "        all_preds.extend(predicted.tolist())\n",
    "        true_labels.extend(labels.tolist())\n",
    "\n",
    "# Calculate accuracy\n",
    "accuracy = accuracy_score(true_labels, all_preds)\n",
    "print(f'Accuracy: {accuracy}')\n",
    "\n",
    "# Print true and predicted labels\n",
    "print(\"True Labels:\", true_labels)\n",
    "print(\"Predicted Labels:\", all_preds)"
   ]
  },
  {
   "cell_type": "code",
   "execution_count": null,
   "id": "e2eb0919-e88f-4730-a4bb-a29f251e6a66",
   "metadata": {},
   "outputs": [],
   "source": []
  }
 ],
 "metadata": {
  "kernelspec": {
   "display_name": "Python 3 (ipykernel)",
   "language": "python",
   "name": "python3"
  },
  "language_info": {
   "codemirror_mode": {
    "name": "ipython",
    "version": 3
   },
   "file_extension": ".py",
   "mimetype": "text/x-python",
   "name": "python",
   "nbconvert_exporter": "python",
   "pygments_lexer": "ipython3",
   "version": "3.10.13"
  }
 },
 "nbformat": 4,
 "nbformat_minor": 5
}
